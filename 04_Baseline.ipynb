{
 "cells": [
  {
   "cell_type": "code",
   "execution_count": 21,
   "metadata": {},
   "outputs": [
    {
     "name": "stdout",
     "output_type": "stream",
     "text": [
      "Requirement already satisfied: torch>=1.9 in /home/gabs/.local/lib/python3.10/site-packages (from -r requirements.txt (line 1)) (2.5.1)\n",
      "Requirement already satisfied: fastai>=2.7 in /home/gabs/.local/lib/python3.10/site-packages (from -r requirements.txt (line 2)) (2.7.18)\n",
      "Requirement already satisfied: matplotlib in /home/gabs/.local/lib/python3.10/site-packages (from -r requirements.txt (line 3)) (3.9.3)\n",
      "Requirement already satisfied: numpy in /home/gabs/.local/lib/python3.10/site-packages (from -r requirements.txt (line 4)) (2.0.2)\n",
      "Requirement already satisfied: pandas in /home/gabs/.local/lib/python3.10/site-packages (from -r requirements.txt (line 5)) (2.2.3)\n",
      "Requirement already satisfied: scikit-learn in /home/gabs/.local/lib/python3.10/site-packages (from -r requirements.txt (line 6)) (1.5.2)\n",
      "Requirement already satisfied: torchvision in /home/gabs/.local/lib/python3.10/site-packages (from -r requirements.txt (line 7)) (0.20.1)\n",
      "Requirement already satisfied: tqdm in /home/gabs/.local/lib/python3.10/site-packages (from -r requirements.txt (line 8)) (4.66.5)\n",
      "Requirement already satisfied: wandb in /home/gabs/.local/lib/python3.10/site-packages (from -r requirements.txt (line 9)) (0.19.0)\n",
      "Requirement already satisfied: tensorflow in /home/gabs/miniconda3/lib/python3.10/site-packages (from -r requirements.txt (line 10)) (2.18.0)\n",
      "Requirement already satisfied: filelock in /home/gabs/miniconda3/lib/python3.10/site-packages (from torch>=1.9->-r requirements.txt (line 1)) (3.12.2)\n",
      "Requirement already satisfied: typing-extensions>=4.8.0 in /home/gabs/.local/lib/python3.10/site-packages (from torch>=1.9->-r requirements.txt (line 1)) (4.12.2)\n",
      "Requirement already satisfied: networkx in /home/gabs/.local/lib/python3.10/site-packages (from torch>=1.9->-r requirements.txt (line 1)) (3.4.2)\n",
      "Requirement already satisfied: jinja2 in /home/gabs/.local/lib/python3.10/site-packages (from torch>=1.9->-r requirements.txt (line 1)) (3.1.2)\n",
      "Requirement already satisfied: fsspec in /home/gabs/.local/lib/python3.10/site-packages (from torch>=1.9->-r requirements.txt (line 1)) (2024.10.0)\n",
      "Requirement already satisfied: nvidia-cuda-nvrtc-cu12==12.4.127 in /home/gabs/.local/lib/python3.10/site-packages (from torch>=1.9->-r requirements.txt (line 1)) (12.4.127)\n",
      "Requirement already satisfied: nvidia-cuda-runtime-cu12==12.4.127 in /home/gabs/.local/lib/python3.10/site-packages (from torch>=1.9->-r requirements.txt (line 1)) (12.4.127)\n",
      "Requirement already satisfied: nvidia-cuda-cupti-cu12==12.4.127 in /home/gabs/.local/lib/python3.10/site-packages (from torch>=1.9->-r requirements.txt (line 1)) (12.4.127)\n",
      "Requirement already satisfied: nvidia-cudnn-cu12==9.1.0.70 in /home/gabs/.local/lib/python3.10/site-packages (from torch>=1.9->-r requirements.txt (line 1)) (9.1.0.70)\n",
      "Requirement already satisfied: nvidia-cublas-cu12==12.4.5.8 in /home/gabs/.local/lib/python3.10/site-packages (from torch>=1.9->-r requirements.txt (line 1)) (12.4.5.8)\n",
      "Requirement already satisfied: nvidia-cufft-cu12==11.2.1.3 in /home/gabs/.local/lib/python3.10/site-packages (from torch>=1.9->-r requirements.txt (line 1)) (11.2.1.3)\n",
      "Requirement already satisfied: nvidia-curand-cu12==10.3.5.147 in /home/gabs/.local/lib/python3.10/site-packages (from torch>=1.9->-r requirements.txt (line 1)) (10.3.5.147)\n",
      "Requirement already satisfied: nvidia-cusolver-cu12==11.6.1.9 in /home/gabs/.local/lib/python3.10/site-packages (from torch>=1.9->-r requirements.txt (line 1)) (11.6.1.9)\n",
      "Requirement already satisfied: nvidia-cusparse-cu12==12.3.1.170 in /home/gabs/.local/lib/python3.10/site-packages (from torch>=1.9->-r requirements.txt (line 1)) (12.3.1.170)\n",
      "Requirement already satisfied: nvidia-nccl-cu12==2.21.5 in /home/gabs/.local/lib/python3.10/site-packages (from torch>=1.9->-r requirements.txt (line 1)) (2.21.5)\n",
      "Requirement already satisfied: nvidia-nvtx-cu12==12.4.127 in /home/gabs/.local/lib/python3.10/site-packages (from torch>=1.9->-r requirements.txt (line 1)) (12.4.127)\n",
      "Requirement already satisfied: nvidia-nvjitlink-cu12==12.4.127 in /home/gabs/.local/lib/python3.10/site-packages (from torch>=1.9->-r requirements.txt (line 1)) (12.4.127)\n",
      "Requirement already satisfied: triton==3.1.0 in /home/gabs/.local/lib/python3.10/site-packages (from torch>=1.9->-r requirements.txt (line 1)) (3.1.0)\n",
      "Requirement already satisfied: sympy==1.13.1 in /home/gabs/.local/lib/python3.10/site-packages (from torch>=1.9->-r requirements.txt (line 1)) (1.13.1)\n",
      "Requirement already satisfied: mpmath<1.4,>=1.1.0 in /home/gabs/.local/lib/python3.10/site-packages (from sympy==1.13.1->torch>=1.9->-r requirements.txt (line 1)) (1.3.0)\n",
      "Requirement already satisfied: pip in /home/gabs/.local/lib/python3.10/site-packages (from fastai>=2.7->-r requirements.txt (line 2)) (24.3.1)\n",
      "Requirement already satisfied: packaging in /home/gabs/.local/lib/python3.10/site-packages (from fastai>=2.7->-r requirements.txt (line 2)) (24.1)\n",
      "Requirement already satisfied: fastdownload<2,>=0.0.5 in /home/gabs/.local/lib/python3.10/site-packages (from fastai>=2.7->-r requirements.txt (line 2)) (0.0.7)\n",
      "Requirement already satisfied: fastcore<1.8,>=1.5.29 in /home/gabs/.local/lib/python3.10/site-packages (from fastai>=2.7->-r requirements.txt (line 2)) (1.7.23)\n",
      "Requirement already satisfied: requests in /home/gabs/miniconda3/lib/python3.10/site-packages (from fastai>=2.7->-r requirements.txt (line 2)) (2.32.3)\n",
      "Requirement already satisfied: pyyaml in /home/gabs/miniconda3/lib/python3.10/site-packages (from fastai>=2.7->-r requirements.txt (line 2)) (6.0.2)\n",
      "Requirement already satisfied: fastprogress>=0.2.4 in /home/gabs/.local/lib/python3.10/site-packages (from fastai>=2.7->-r requirements.txt (line 2)) (1.0.3)\n",
      "Requirement already satisfied: pillow>=9.0.0 in /home/gabs/miniconda3/lib/python3.10/site-packages (from fastai>=2.7->-r requirements.txt (line 2)) (9.5.0)\n",
      "Requirement already satisfied: scipy in /home/gabs/.local/lib/python3.10/site-packages (from fastai>=2.7->-r requirements.txt (line 2)) (1.13.1)\n",
      "Requirement already satisfied: spacy<4 in /home/gabs/.local/lib/python3.10/site-packages (from fastai>=2.7->-r requirements.txt (line 2)) (3.8.2)\n",
      "Requirement already satisfied: contourpy>=1.0.1 in /home/gabs/.local/lib/python3.10/site-packages (from matplotlib->-r requirements.txt (line 3)) (1.0.5)\n",
      "Requirement already satisfied: cycler>=0.10 in /home/gabs/.local/lib/python3.10/site-packages (from matplotlib->-r requirements.txt (line 3)) (0.11.0)\n",
      "Requirement already satisfied: fonttools>=4.22.0 in /home/gabs/.local/lib/python3.10/site-packages (from matplotlib->-r requirements.txt (line 3)) (4.37.3)\n",
      "Requirement already satisfied: kiwisolver>=1.3.1 in /home/gabs/.local/lib/python3.10/site-packages (from matplotlib->-r requirements.txt (line 3)) (1.4.4)\n",
      "Requirement already satisfied: pyparsing>=2.3.1 in /home/gabs/miniconda3/lib/python3.10/site-packages (from matplotlib->-r requirements.txt (line 3)) (3.0.9)\n",
      "Requirement already satisfied: python-dateutil>=2.7 in /home/gabs/.local/lib/python3.10/site-packages (from matplotlib->-r requirements.txt (line 3)) (2.9.0.post0)\n",
      "Requirement already satisfied: pytz>=2020.1 in /home/gabs/.local/lib/python3.10/site-packages (from pandas->-r requirements.txt (line 5)) (2024.2)\n",
      "Requirement already satisfied: tzdata>=2022.7 in /home/gabs/.local/lib/python3.10/site-packages (from pandas->-r requirements.txt (line 5)) (2024.2)\n",
      "Requirement already satisfied: joblib>=1.2.0 in /home/gabs/.local/lib/python3.10/site-packages (from scikit-learn->-r requirements.txt (line 6)) (1.4.2)\n",
      "Requirement already satisfied: threadpoolctl>=3.1.0 in /home/gabs/.local/lib/python3.10/site-packages (from scikit-learn->-r requirements.txt (line 6)) (3.5.0)\n",
      "Requirement already satisfied: click!=8.0.0,>=7.1 in /home/gabs/miniconda3/lib/python3.10/site-packages (from wandb->-r requirements.txt (line 9)) (8.1.3)\n",
      "Requirement already satisfied: docker-pycreds>=0.4.0 in /home/gabs/.local/lib/python3.10/site-packages (from wandb->-r requirements.txt (line 9)) (0.4.0)\n",
      "Requirement already satisfied: gitpython!=3.1.29,>=1.0.0 in /home/gabs/.local/lib/python3.10/site-packages (from wandb->-r requirements.txt (line 9)) (3.1.43)\n",
      "Requirement already satisfied: platformdirs in /home/gabs/.local/lib/python3.10/site-packages (from wandb->-r requirements.txt (line 9)) (4.3.6)\n",
      "Requirement already satisfied: protobuf!=4.21.0,!=5.28.0,<6,>=3.19.0 in /home/gabs/.local/lib/python3.10/site-packages (from wandb->-r requirements.txt (line 9)) (5.29.1)\n",
      "Requirement already satisfied: psutil>=5.0.0 in /home/gabs/miniconda3/lib/python3.10/site-packages (from wandb->-r requirements.txt (line 9)) (5.9.0)\n",
      "Requirement already satisfied: pydantic<3,>=2.6 in /home/gabs/.local/lib/python3.10/site-packages (from wandb->-r requirements.txt (line 9)) (2.9.2)\n",
      "Requirement already satisfied: sentry-sdk>=2.0.0 in /home/gabs/.local/lib/python3.10/site-packages (from wandb->-r requirements.txt (line 9)) (2.19.1)\n",
      "Requirement already satisfied: setproctitle in /home/gabs/miniconda3/lib/python3.10/site-packages (from wandb->-r requirements.txt (line 9)) (1.3.4)\n",
      "Requirement already satisfied: setuptools in /home/gabs/miniconda3/lib/python3.10/site-packages (from wandb->-r requirements.txt (line 9)) (65.6.3)\n",
      "Requirement already satisfied: absl-py>=1.0.0 in /home/gabs/.local/lib/python3.10/site-packages (from tensorflow->-r requirements.txt (line 10)) (1.2.0)\n",
      "Requirement already satisfied: astunparse>=1.6.0 in /home/gabs/.local/lib/python3.10/site-packages (from tensorflow->-r requirements.txt (line 10)) (1.6.3)\n",
      "Requirement already satisfied: flatbuffers>=24.3.25 in /home/gabs/miniconda3/lib/python3.10/site-packages (from tensorflow->-r requirements.txt (line 10)) (24.3.25)\n",
      "Requirement already satisfied: gast!=0.5.0,!=0.5.1,!=0.5.2,>=0.2.1 in /home/gabs/.local/lib/python3.10/site-packages (from tensorflow->-r requirements.txt (line 10)) (0.4.0)\n",
      "Requirement already satisfied: google-pasta>=0.1.1 in /home/gabs/.local/lib/python3.10/site-packages (from tensorflow->-r requirements.txt (line 10)) (0.2.0)\n",
      "Requirement already satisfied: libclang>=13.0.0 in /home/gabs/.local/lib/python3.10/site-packages (from tensorflow->-r requirements.txt (line 10)) (14.0.6)\n",
      "Requirement already satisfied: opt-einsum>=2.3.2 in /home/gabs/.local/lib/python3.10/site-packages (from tensorflow->-r requirements.txt (line 10)) (3.3.0)\n",
      "Requirement already satisfied: six>=1.12.0 in /home/gabs/.local/lib/python3.10/site-packages (from tensorflow->-r requirements.txt (line 10)) (1.16.0)\n",
      "Requirement already satisfied: termcolor>=1.1.0 in /home/gabs/.local/lib/python3.10/site-packages (from tensorflow->-r requirements.txt (line 10)) (2.0.1)\n",
      "Requirement already satisfied: wrapt>=1.11.0 in /home/gabs/.local/lib/python3.10/site-packages (from tensorflow->-r requirements.txt (line 10)) (1.14.1)\n",
      "Requirement already satisfied: grpcio<2.0,>=1.24.3 in /home/gabs/miniconda3/lib/python3.10/site-packages (from tensorflow->-r requirements.txt (line 10)) (1.54.2)\n",
      "Requirement already satisfied: tensorboard<2.19,>=2.18 in /home/gabs/miniconda3/lib/python3.10/site-packages (from tensorflow->-r requirements.txt (line 10)) (2.18.0)\n",
      "Requirement already satisfied: keras>=3.5.0 in /home/gabs/miniconda3/lib/python3.10/site-packages (from tensorflow->-r requirements.txt (line 10)) (3.7.0)\n",
      "Requirement already satisfied: h5py>=3.11.0 in /home/gabs/miniconda3/lib/python3.10/site-packages (from tensorflow->-r requirements.txt (line 10)) (3.12.1)\n",
      "Requirement already satisfied: ml-dtypes<0.5.0,>=0.4.0 in /home/gabs/miniconda3/lib/python3.10/site-packages (from tensorflow->-r requirements.txt (line 10)) (0.4.1)\n",
      "Requirement already satisfied: tensorflow-io-gcs-filesystem>=0.23.1 in /home/gabs/.local/lib/python3.10/site-packages (from tensorflow->-r requirements.txt (line 10)) (0.27.0)\n",
      "Requirement already satisfied: wheel<1.0,>=0.23.0 in /home/gabs/miniconda3/lib/python3.10/site-packages (from astunparse>=1.6.0->tensorflow->-r requirements.txt (line 10)) (0.38.4)\n",
      "Requirement already satisfied: gitdb<5,>=4.0.1 in /home/gabs/.local/lib/python3.10/site-packages (from gitpython!=3.1.29,>=1.0.0->wandb->-r requirements.txt (line 9)) (4.0.11)\n",
      "Requirement already satisfied: rich in /home/gabs/.local/lib/python3.10/site-packages (from keras>=3.5.0->tensorflow->-r requirements.txt (line 10)) (13.9.3)\n",
      "Requirement already satisfied: namex in /home/gabs/miniconda3/lib/python3.10/site-packages (from keras>=3.5.0->tensorflow->-r requirements.txt (line 10)) (0.0.8)\n",
      "Requirement already satisfied: optree in /home/gabs/miniconda3/lib/python3.10/site-packages (from keras>=3.5.0->tensorflow->-r requirements.txt (line 10)) (0.13.1)\n",
      "Requirement already satisfied: annotated-types>=0.6.0 in /home/gabs/.local/lib/python3.10/site-packages (from pydantic<3,>=2.6->wandb->-r requirements.txt (line 9)) (0.7.0)\n",
      "Requirement already satisfied: pydantic-core==2.23.4 in /home/gabs/.local/lib/python3.10/site-packages (from pydantic<3,>=2.6->wandb->-r requirements.txt (line 9)) (2.23.4)\n",
      "Requirement already satisfied: charset-normalizer<4,>=2 in /home/gabs/miniconda3/lib/python3.10/site-packages (from requests->fastai>=2.7->-r requirements.txt (line 2)) (2.0.4)\n",
      "Requirement already satisfied: idna<4,>=2.5 in /home/gabs/miniconda3/lib/python3.10/site-packages (from requests->fastai>=2.7->-r requirements.txt (line 2)) (3.4)\n",
      "Requirement already satisfied: urllib3<3,>=1.21.1 in /home/gabs/.local/lib/python3.10/site-packages (from requests->fastai>=2.7->-r requirements.txt (line 2)) (2.2.3)\n",
      "Requirement already satisfied: certifi>=2017.4.17 in /home/gabs/miniconda3/lib/python3.10/site-packages (from requests->fastai>=2.7->-r requirements.txt (line 2)) (2023.5.7)\n",
      "Requirement already satisfied: spacy-legacy<3.1.0,>=3.0.11 in /home/gabs/.local/lib/python3.10/site-packages (from spacy<4->fastai>=2.7->-r requirements.txt (line 2)) (3.0.12)\n",
      "Requirement already satisfied: spacy-loggers<2.0.0,>=1.0.0 in /home/gabs/.local/lib/python3.10/site-packages (from spacy<4->fastai>=2.7->-r requirements.txt (line 2)) (1.0.5)\n",
      "Requirement already satisfied: murmurhash<1.1.0,>=0.28.0 in /home/gabs/.local/lib/python3.10/site-packages (from spacy<4->fastai>=2.7->-r requirements.txt (line 2)) (1.0.11)\n",
      "Requirement already satisfied: cymem<2.1.0,>=2.0.2 in /home/gabs/.local/lib/python3.10/site-packages (from spacy<4->fastai>=2.7->-r requirements.txt (line 2)) (2.0.10)\n",
      "Requirement already satisfied: preshed<3.1.0,>=3.0.2 in /home/gabs/.local/lib/python3.10/site-packages (from spacy<4->fastai>=2.7->-r requirements.txt (line 2)) (3.0.9)\n",
      "Requirement already satisfied: thinc<8.4.0,>=8.3.0 in /home/gabs/.local/lib/python3.10/site-packages (from spacy<4->fastai>=2.7->-r requirements.txt (line 2)) (8.3.2)\n",
      "Requirement already satisfied: wasabi<1.2.0,>=0.9.1 in /home/gabs/.local/lib/python3.10/site-packages (from spacy<4->fastai>=2.7->-r requirements.txt (line 2)) (1.1.3)\n",
      "Requirement already satisfied: srsly<3.0.0,>=2.4.3 in /home/gabs/.local/lib/python3.10/site-packages (from spacy<4->fastai>=2.7->-r requirements.txt (line 2)) (2.4.8)\n",
      "Requirement already satisfied: catalogue<2.1.0,>=2.0.6 in /home/gabs/.local/lib/python3.10/site-packages (from spacy<4->fastai>=2.7->-r requirements.txt (line 2)) (2.0.10)\n",
      "Requirement already satisfied: weasel<0.5.0,>=0.1.0 in /home/gabs/.local/lib/python3.10/site-packages (from spacy<4->fastai>=2.7->-r requirements.txt (line 2)) (0.4.1)\n",
      "Requirement already satisfied: typer<1.0.0,>=0.3.0 in /home/gabs/.local/lib/python3.10/site-packages (from spacy<4->fastai>=2.7->-r requirements.txt (line 2)) (0.12.5)\n",
      "Requirement already satisfied: langcodes<4.0.0,>=3.2.0 in /home/gabs/.local/lib/python3.10/site-packages (from spacy<4->fastai>=2.7->-r requirements.txt (line 2)) (3.5.0)\n",
      "Requirement already satisfied: markdown>=2.6.8 in /home/gabs/.local/lib/python3.10/site-packages (from tensorboard<2.19,>=2.18->tensorflow->-r requirements.txt (line 10)) (3.4.1)\n",
      "Requirement already satisfied: tensorboard-data-server<0.8.0,>=0.7.0 in /home/gabs/miniconda3/lib/python3.10/site-packages (from tensorboard<2.19,>=2.18->tensorflow->-r requirements.txt (line 10)) (0.7.2)\n",
      "Requirement already satisfied: werkzeug>=1.0.1 in /home/gabs/.local/lib/python3.10/site-packages (from tensorboard<2.19,>=2.18->tensorflow->-r requirements.txt (line 10)) (2.2.2)\n",
      "Requirement already satisfied: MarkupSafe>=2.0 in /home/gabs/.local/lib/python3.10/site-packages (from jinja2->torch>=1.9->-r requirements.txt (line 1)) (2.1.1)\n",
      "Requirement already satisfied: smmap<6,>=3.0.1 in /home/gabs/.local/lib/python3.10/site-packages (from gitdb<5,>=4.0.1->gitpython!=3.1.29,>=1.0.0->wandb->-r requirements.txt (line 9)) (5.0.1)\n",
      "Requirement already satisfied: language-data>=1.2 in /home/gabs/.local/lib/python3.10/site-packages (from langcodes<4.0.0,>=3.2.0->spacy<4->fastai>=2.7->-r requirements.txt (line 2)) (1.3.0)\n",
      "Requirement already satisfied: blis<1.1.0,>=1.0.0 in /home/gabs/.local/lib/python3.10/site-packages (from thinc<8.4.0,>=8.3.0->spacy<4->fastai>=2.7->-r requirements.txt (line 2)) (1.0.1)\n",
      "Requirement already satisfied: confection<1.0.0,>=0.0.1 in /home/gabs/.local/lib/python3.10/site-packages (from thinc<8.4.0,>=8.3.0->spacy<4->fastai>=2.7->-r requirements.txt (line 2)) (0.1.5)\n",
      "Requirement already satisfied: shellingham>=1.3.0 in /home/gabs/miniconda3/lib/python3.10/site-packages (from typer<1.0.0,>=0.3.0->spacy<4->fastai>=2.7->-r requirements.txt (line 2)) (1.5.4)\n",
      "Requirement already satisfied: markdown-it-py>=2.2.0 in /home/gabs/.local/lib/python3.10/site-packages (from rich->keras>=3.5.0->tensorflow->-r requirements.txt (line 10)) (3.0.0)\n",
      "Requirement already satisfied: pygments<3.0.0,>=2.13.0 in /home/gabs/.local/lib/python3.10/site-packages (from rich->keras>=3.5.0->tensorflow->-r requirements.txt (line 10)) (2.13.0)\n",
      "Requirement already satisfied: cloudpathlib<1.0.0,>=0.7.0 in /home/gabs/.local/lib/python3.10/site-packages (from weasel<0.5.0,>=0.1.0->spacy<4->fastai>=2.7->-r requirements.txt (line 2)) (0.20.0)\n",
      "Requirement already satisfied: smart-open<8.0.0,>=5.2.1 in /home/gabs/.local/lib/python3.10/site-packages (from weasel<0.5.0,>=0.1.0->spacy<4->fastai>=2.7->-r requirements.txt (line 2)) (7.0.5)\n",
      "Requirement already satisfied: marisa-trie>=1.1.0 in /home/gabs/.local/lib/python3.10/site-packages (from language-data>=1.2->langcodes<4.0.0,>=3.2.0->spacy<4->fastai>=2.7->-r requirements.txt (line 2)) (1.2.1)\n",
      "Requirement already satisfied: mdurl~=0.1 in /home/gabs/.local/lib/python3.10/site-packages (from markdown-it-py>=2.2.0->rich->keras>=3.5.0->tensorflow->-r requirements.txt (line 10)) (0.1.2)\n",
      "Note: you may need to restart the kernel to use updated packages.\n"
     ]
    }
   ],
   "source": [
    "%pip install -r requirements.txt"
   ]
  },
  {
   "cell_type": "code",
   "execution_count": 22,
   "metadata": {},
   "outputs": [],
   "source": [
    "import pandas as pd\n",
    "from tensorflow.keras.preprocessing.image import ImageDataGenerator\n",
    "from tensorflow.keras import layers, models\n",
    "from wandb.integration.keras import WandbMetricsLogger\n",
    "\n",
    "import wandb\n",
    "import params"
   ]
  },
  {
   "cell_type": "code",
   "execution_count": 23,
   "metadata": {},
   "outputs": [],
   "source": [
    "run = wandb.init(project=params.WANDB_PROJECT, entity=params.ENTITY, job_type=\"training\")"
   ]
  },
  {
   "cell_type": "code",
   "execution_count": 24,
   "metadata": {},
   "outputs": [],
   "source": [
    "processed_data_at = run.use_artifact(f'{params.PROCESSED_DATA_AT}:latest')\n",
    "\n"
   ]
  },
  {
   "cell_type": "code",
   "execution_count": 25,
   "metadata": {},
   "outputs": [
    {
     "name": "stdout",
     "output_type": "stream",
     "text": [
      "\u001b[0m\u001b[01;34mdaisy\u001b[0m/  \u001b[01;34mdandelion\u001b[0m/  \u001b[01;34mrose\u001b[0m/  \u001b[01;34msunflower\u001b[0m/  \u001b[01;34mtulip\u001b[0m/\n"
     ]
    }
   ],
   "source": [
    "%ls artifacts/flowers_simples_split:v3/flowers\n"
   ]
  },
  {
   "cell_type": "code",
   "execution_count": 26,
   "metadata": {},
   "outputs": [
    {
     "data": {
      "text/html": [
       "<div>\n",
       "<style scoped>\n",
       "    .dataframe tbody tr th:only-of-type {\n",
       "        vertical-align: middle;\n",
       "    }\n",
       "\n",
       "    .dataframe tbody tr th {\n",
       "        vertical-align: top;\n",
       "    }\n",
       "\n",
       "    .dataframe thead th {\n",
       "        text-align: right;\n",
       "    }\n",
       "</style>\n",
       "<table border=\"1\" class=\"dataframe\">\n",
       "  <thead>\n",
       "    <tr style=\"text-align: right;\">\n",
       "      <th></th>\n",
       "      <th>fname</th>\n",
       "      <th>tulip</th>\n",
       "      <th>dandelion</th>\n",
       "      <th>daisy</th>\n",
       "      <th>rose</th>\n",
       "      <th>sunflower</th>\n",
       "    </tr>\n",
       "  </thead>\n",
       "  <tbody>\n",
       "    <tr>\n",
       "      <th>0</th>\n",
       "      <td>8723767533_9145dec4bd_n.jpg</td>\n",
       "      <td>1</td>\n",
       "      <td>0</td>\n",
       "      <td>0</td>\n",
       "      <td>0</td>\n",
       "      <td>0</td>\n",
       "    </tr>\n",
       "    <tr>\n",
       "      <th>1</th>\n",
       "      <td>5716293002_a8be6a6dd3_n.jpg</td>\n",
       "      <td>1</td>\n",
       "      <td>0</td>\n",
       "      <td>0</td>\n",
       "      <td>0</td>\n",
       "      <td>0</td>\n",
       "    </tr>\n",
       "    <tr>\n",
       "      <th>2</th>\n",
       "      <td>8521597402_4b6169ba05.jpg</td>\n",
       "      <td>1</td>\n",
       "      <td>0</td>\n",
       "      <td>0</td>\n",
       "      <td>0</td>\n",
       "      <td>0</td>\n",
       "    </tr>\n",
       "    <tr>\n",
       "      <th>3</th>\n",
       "      <td>8713388322_e5ae26263b_n.jpg</td>\n",
       "      <td>1</td>\n",
       "      <td>0</td>\n",
       "      <td>0</td>\n",
       "      <td>0</td>\n",
       "      <td>0</td>\n",
       "    </tr>\n",
       "    <tr>\n",
       "      <th>4</th>\n",
       "      <td>4624404489_11e10fcd33_n.jpg</td>\n",
       "      <td>1</td>\n",
       "      <td>0</td>\n",
       "      <td>0</td>\n",
       "      <td>0</td>\n",
       "      <td>0</td>\n",
       "    </tr>\n",
       "  </tbody>\n",
       "</table>\n",
       "</div>"
      ],
      "text/plain": [
       "                         fname  tulip  dandelion  daisy  rose  sunflower\n",
       "0  8723767533_9145dec4bd_n.jpg      1          0      0     0          0\n",
       "1  5716293002_a8be6a6dd3_n.jpg      1          0      0     0          0\n",
       "2    8521597402_4b6169ba05.jpg      1          0      0     0          0\n",
       "3  8713388322_e5ae26263b_n.jpg      1          0      0     0          0\n",
       "4  4624404489_11e10fcd33_n.jpg      1          0      0     0          0"
      ]
     },
     "execution_count": 26,
     "metadata": {},
     "output_type": "execute_result"
    }
   ],
   "source": [
    "df = pd.read_csv(\"data_split.csv\")\n",
    "df.head()"
   ]
  },
  {
   "cell_type": "code",
   "execution_count": null,
   "metadata": {},
   "outputs": [
    {
     "name": "stdout",
     "output_type": "stream",
     "text": [
      "Found 3457 images belonging to 5 classes.\n",
      "Found 860 images belonging to 5 classes.\n"
     ]
    }
   ],
   "source": [
    "dataset_dir = 'artifacts/flowers_simples_split:v3/flowers'\n",
    "\n",
    "datagen = ImageDataGenerator(rescale=1./255, validation_split=0.2)\n",
    "\n",
    "# Gerador para treinamento\n",
    "train_generator = datagen.flow_from_directory(\n",
    "    directory=dataset_dir,\n",
    "    target_size=(180, 180),\n",
    "    batch_size=32,\n",
    "    class_mode='categorical',\n",
    "    subset='training' \n",
    ")\n",
    "\n",
    "# Gerador para validação\n",
    "validation_generator = datagen.flow_from_directory(\n",
    "    directory=dataset_dir,\n",
    "    target_size=(180, 180),\n",
    "    batch_size=32,\n",
    "    class_mode='categorical',\n",
    "    subset='validation'\n",
    ")\n"
   ]
  },
  {
   "cell_type": "code",
   "execution_count": 28,
   "metadata": {},
   "outputs": [
    {
     "name": "stderr",
     "output_type": "stream",
     "text": [
      "/home/gabs/miniconda3/lib/python3.10/site-packages/keras/src/layers/convolutional/base_conv.py:107: UserWarning: Do not pass an `input_shape`/`input_dim` argument to a layer. When using Sequential models, prefer using an `Input(shape)` object as the first layer in the model instead.\n",
      "  super().__init__(activity_regularizer=activity_regularizer, **kwargs)\n",
      "2024-12-13 00:33:58.404406: E external/local_xla/xla/stream_executor/cuda/cuda_driver.cc:152] failed call to cuInit: INTERNAL: CUDA error: Failed call to cuInit: UNKNOWN ERROR (303)\n"
     ]
    },
    {
     "data": {
      "text/html": [
       "<pre style=\"white-space:pre;overflow-x:auto;line-height:normal;font-family:Menlo,'DejaVu Sans Mono',consolas,'Courier New',monospace\"><span style=\"font-weight: bold\">Model: \"sequential\"</span>\n",
       "</pre>\n"
      ],
      "text/plain": [
       "\u001b[1mModel: \"sequential\"\u001b[0m\n"
      ]
     },
     "metadata": {},
     "output_type": "display_data"
    },
    {
     "data": {
      "text/html": [
       "<pre style=\"white-space:pre;overflow-x:auto;line-height:normal;font-family:Menlo,'DejaVu Sans Mono',consolas,'Courier New',monospace\">┏━━━━━━━━━━━━━━━━━━━━━━━━━━━━━━━━━┳━━━━━━━━━━━━━━━━━━━━━━━━┳━━━━━━━━━━━━━━━┓\n",
       "┃<span style=\"font-weight: bold\"> Layer (type)                    </span>┃<span style=\"font-weight: bold\"> Output Shape           </span>┃<span style=\"font-weight: bold\">       Param # </span>┃\n",
       "┡━━━━━━━━━━━━━━━━━━━━━━━━━━━━━━━━━╇━━━━━━━━━━━━━━━━━━━━━━━━╇━━━━━━━━━━━━━━━┩\n",
       "│ conv2d (<span style=\"color: #0087ff; text-decoration-color: #0087ff\">Conv2D</span>)                 │ (<span style=\"color: #00d7ff; text-decoration-color: #00d7ff\">None</span>, <span style=\"color: #00af00; text-decoration-color: #00af00\">178</span>, <span style=\"color: #00af00; text-decoration-color: #00af00\">178</span>, <span style=\"color: #00af00; text-decoration-color: #00af00\">32</span>)   │           <span style=\"color: #00af00; text-decoration-color: #00af00\">896</span> │\n",
       "├─────────────────────────────────┼────────────────────────┼───────────────┤\n",
       "│ max_pooling2d (<span style=\"color: #0087ff; text-decoration-color: #0087ff\">MaxPooling2D</span>)    │ (<span style=\"color: #00d7ff; text-decoration-color: #00d7ff\">None</span>, <span style=\"color: #00af00; text-decoration-color: #00af00\">89</span>, <span style=\"color: #00af00; text-decoration-color: #00af00\">89</span>, <span style=\"color: #00af00; text-decoration-color: #00af00\">32</span>)     │             <span style=\"color: #00af00; text-decoration-color: #00af00\">0</span> │\n",
       "├─────────────────────────────────┼────────────────────────┼───────────────┤\n",
       "│ conv2d_1 (<span style=\"color: #0087ff; text-decoration-color: #0087ff\">Conv2D</span>)               │ (<span style=\"color: #00d7ff; text-decoration-color: #00d7ff\">None</span>, <span style=\"color: #00af00; text-decoration-color: #00af00\">87</span>, <span style=\"color: #00af00; text-decoration-color: #00af00\">87</span>, <span style=\"color: #00af00; text-decoration-color: #00af00\">64</span>)     │        <span style=\"color: #00af00; text-decoration-color: #00af00\">18,496</span> │\n",
       "├─────────────────────────────────┼────────────────────────┼───────────────┤\n",
       "│ max_pooling2d_1 (<span style=\"color: #0087ff; text-decoration-color: #0087ff\">MaxPooling2D</span>)  │ (<span style=\"color: #00d7ff; text-decoration-color: #00d7ff\">None</span>, <span style=\"color: #00af00; text-decoration-color: #00af00\">43</span>, <span style=\"color: #00af00; text-decoration-color: #00af00\">43</span>, <span style=\"color: #00af00; text-decoration-color: #00af00\">64</span>)     │             <span style=\"color: #00af00; text-decoration-color: #00af00\">0</span> │\n",
       "├─────────────────────────────────┼────────────────────────┼───────────────┤\n",
       "│ conv2d_2 (<span style=\"color: #0087ff; text-decoration-color: #0087ff\">Conv2D</span>)               │ (<span style=\"color: #00d7ff; text-decoration-color: #00d7ff\">None</span>, <span style=\"color: #00af00; text-decoration-color: #00af00\">41</span>, <span style=\"color: #00af00; text-decoration-color: #00af00\">41</span>, <span style=\"color: #00af00; text-decoration-color: #00af00\">128</span>)    │        <span style=\"color: #00af00; text-decoration-color: #00af00\">73,856</span> │\n",
       "├─────────────────────────────────┼────────────────────────┼───────────────┤\n",
       "│ max_pooling2d_2 (<span style=\"color: #0087ff; text-decoration-color: #0087ff\">MaxPooling2D</span>)  │ (<span style=\"color: #00d7ff; text-decoration-color: #00d7ff\">None</span>, <span style=\"color: #00af00; text-decoration-color: #00af00\">20</span>, <span style=\"color: #00af00; text-decoration-color: #00af00\">20</span>, <span style=\"color: #00af00; text-decoration-color: #00af00\">128</span>)    │             <span style=\"color: #00af00; text-decoration-color: #00af00\">0</span> │\n",
       "├─────────────────────────────────┼────────────────────────┼───────────────┤\n",
       "│ flatten (<span style=\"color: #0087ff; text-decoration-color: #0087ff\">Flatten</span>)               │ (<span style=\"color: #00d7ff; text-decoration-color: #00d7ff\">None</span>, <span style=\"color: #00af00; text-decoration-color: #00af00\">51200</span>)          │             <span style=\"color: #00af00; text-decoration-color: #00af00\">0</span> │\n",
       "├─────────────────────────────────┼────────────────────────┼───────────────┤\n",
       "│ dense (<span style=\"color: #0087ff; text-decoration-color: #0087ff\">Dense</span>)                   │ (<span style=\"color: #00d7ff; text-decoration-color: #00d7ff\">None</span>, <span style=\"color: #00af00; text-decoration-color: #00af00\">32</span>)             │     <span style=\"color: #00af00; text-decoration-color: #00af00\">1,638,432</span> │\n",
       "├─────────────────────────────────┼────────────────────────┼───────────────┤\n",
       "│ dense_1 (<span style=\"color: #0087ff; text-decoration-color: #0087ff\">Dense</span>)                 │ (<span style=\"color: #00d7ff; text-decoration-color: #00d7ff\">None</span>, <span style=\"color: #00af00; text-decoration-color: #00af00\">5</span>)              │           <span style=\"color: #00af00; text-decoration-color: #00af00\">165</span> │\n",
       "└─────────────────────────────────┴────────────────────────┴───────────────┘\n",
       "</pre>\n"
      ],
      "text/plain": [
       "┏━━━━━━━━━━━━━━━━━━━━━━━━━━━━━━━━━┳━━━━━━━━━━━━━━━━━━━━━━━━┳━━━━━━━━━━━━━━━┓\n",
       "┃\u001b[1m \u001b[0m\u001b[1mLayer (type)                   \u001b[0m\u001b[1m \u001b[0m┃\u001b[1m \u001b[0m\u001b[1mOutput Shape          \u001b[0m\u001b[1m \u001b[0m┃\u001b[1m \u001b[0m\u001b[1m      Param #\u001b[0m\u001b[1m \u001b[0m┃\n",
       "┡━━━━━━━━━━━━━━━━━━━━━━━━━━━━━━━━━╇━━━━━━━━━━━━━━━━━━━━━━━━╇━━━━━━━━━━━━━━━┩\n",
       "│ conv2d (\u001b[38;5;33mConv2D\u001b[0m)                 │ (\u001b[38;5;45mNone\u001b[0m, \u001b[38;5;34m178\u001b[0m, \u001b[38;5;34m178\u001b[0m, \u001b[38;5;34m32\u001b[0m)   │           \u001b[38;5;34m896\u001b[0m │\n",
       "├─────────────────────────────────┼────────────────────────┼───────────────┤\n",
       "│ max_pooling2d (\u001b[38;5;33mMaxPooling2D\u001b[0m)    │ (\u001b[38;5;45mNone\u001b[0m, \u001b[38;5;34m89\u001b[0m, \u001b[38;5;34m89\u001b[0m, \u001b[38;5;34m32\u001b[0m)     │             \u001b[38;5;34m0\u001b[0m │\n",
       "├─────────────────────────────────┼────────────────────────┼───────────────┤\n",
       "│ conv2d_1 (\u001b[38;5;33mConv2D\u001b[0m)               │ (\u001b[38;5;45mNone\u001b[0m, \u001b[38;5;34m87\u001b[0m, \u001b[38;5;34m87\u001b[0m, \u001b[38;5;34m64\u001b[0m)     │        \u001b[38;5;34m18,496\u001b[0m │\n",
       "├─────────────────────────────────┼────────────────────────┼───────────────┤\n",
       "│ max_pooling2d_1 (\u001b[38;5;33mMaxPooling2D\u001b[0m)  │ (\u001b[38;5;45mNone\u001b[0m, \u001b[38;5;34m43\u001b[0m, \u001b[38;5;34m43\u001b[0m, \u001b[38;5;34m64\u001b[0m)     │             \u001b[38;5;34m0\u001b[0m │\n",
       "├─────────────────────────────────┼────────────────────────┼───────────────┤\n",
       "│ conv2d_2 (\u001b[38;5;33mConv2D\u001b[0m)               │ (\u001b[38;5;45mNone\u001b[0m, \u001b[38;5;34m41\u001b[0m, \u001b[38;5;34m41\u001b[0m, \u001b[38;5;34m128\u001b[0m)    │        \u001b[38;5;34m73,856\u001b[0m │\n",
       "├─────────────────────────────────┼────────────────────────┼───────────────┤\n",
       "│ max_pooling2d_2 (\u001b[38;5;33mMaxPooling2D\u001b[0m)  │ (\u001b[38;5;45mNone\u001b[0m, \u001b[38;5;34m20\u001b[0m, \u001b[38;5;34m20\u001b[0m, \u001b[38;5;34m128\u001b[0m)    │             \u001b[38;5;34m0\u001b[0m │\n",
       "├─────────────────────────────────┼────────────────────────┼───────────────┤\n",
       "│ flatten (\u001b[38;5;33mFlatten\u001b[0m)               │ (\u001b[38;5;45mNone\u001b[0m, \u001b[38;5;34m51200\u001b[0m)          │             \u001b[38;5;34m0\u001b[0m │\n",
       "├─────────────────────────────────┼────────────────────────┼───────────────┤\n",
       "│ dense (\u001b[38;5;33mDense\u001b[0m)                   │ (\u001b[38;5;45mNone\u001b[0m, \u001b[38;5;34m32\u001b[0m)             │     \u001b[38;5;34m1,638,432\u001b[0m │\n",
       "├─────────────────────────────────┼────────────────────────┼───────────────┤\n",
       "│ dense_1 (\u001b[38;5;33mDense\u001b[0m)                 │ (\u001b[38;5;45mNone\u001b[0m, \u001b[38;5;34m5\u001b[0m)              │           \u001b[38;5;34m165\u001b[0m │\n",
       "└─────────────────────────────────┴────────────────────────┴───────────────┘\n"
      ]
     },
     "metadata": {},
     "output_type": "display_data"
    },
    {
     "data": {
      "text/html": [
       "<pre style=\"white-space:pre;overflow-x:auto;line-height:normal;font-family:Menlo,'DejaVu Sans Mono',consolas,'Courier New',monospace\"><span style=\"font-weight: bold\"> Total params: </span><span style=\"color: #00af00; text-decoration-color: #00af00\">1,731,845</span> (6.61 MB)\n",
       "</pre>\n"
      ],
      "text/plain": [
       "\u001b[1m Total params: \u001b[0m\u001b[38;5;34m1,731,845\u001b[0m (6.61 MB)\n"
      ]
     },
     "metadata": {},
     "output_type": "display_data"
    },
    {
     "data": {
      "text/html": [
       "<pre style=\"white-space:pre;overflow-x:auto;line-height:normal;font-family:Menlo,'DejaVu Sans Mono',consolas,'Courier New',monospace\"><span style=\"font-weight: bold\"> Trainable params: </span><span style=\"color: #00af00; text-decoration-color: #00af00\">1,731,845</span> (6.61 MB)\n",
       "</pre>\n"
      ],
      "text/plain": [
       "\u001b[1m Trainable params: \u001b[0m\u001b[38;5;34m1,731,845\u001b[0m (6.61 MB)\n"
      ]
     },
     "metadata": {},
     "output_type": "display_data"
    },
    {
     "data": {
      "text/html": [
       "<pre style=\"white-space:pre;overflow-x:auto;line-height:normal;font-family:Menlo,'DejaVu Sans Mono',consolas,'Courier New',monospace\"><span style=\"font-weight: bold\"> Non-trainable params: </span><span style=\"color: #00af00; text-decoration-color: #00af00\">0</span> (0.00 B)\n",
       "</pre>\n"
      ],
      "text/plain": [
       "\u001b[1m Non-trainable params: \u001b[0m\u001b[38;5;34m0\u001b[0m (0.00 B)\n"
      ]
     },
     "metadata": {},
     "output_type": "display_data"
    }
   ],
   "source": [
    "model = models.Sequential([\n",
    "    layers.Conv2D(32, (3, 3), activation='relu', input_shape=(180, 180, 3)),\n",
    "    layers.MaxPooling2D((2, 2)),\n",
    "    layers.Conv2D(64, (3, 3), activation='relu'),\n",
    "    layers.MaxPooling2D((2, 2)),\n",
    "    layers.Conv2D(128, (3, 3), activation='relu'),\n",
    "    layers.MaxPooling2D((2, 2)),\n",
    "    layers.Flatten(),\n",
    "    layers.Dense(32, activation='relu'),\n",
    "    layers.Dense(5, activation='softmax') \n",
    "])\n",
    "\n",
    "model.compile(optimizer='adam',\n",
    "              loss='categorical_crossentropy',\n",
    "              metrics=['accuracy'])\n",
    "\n",
    "model.summary()\n"
   ]
  },
  {
   "cell_type": "code",
   "execution_count": 29,
   "metadata": {},
   "outputs": [
    {
     "name": "stderr",
     "output_type": "stream",
     "text": [
      "\u001b[34m\u001b[1mwandb\u001b[0m: \u001b[33mWARNING\u001b[0m When using `save_best_only`, ensure that the `filepath` argument contains formatting placeholders like `{epoch:02d}` or `{batch:02d}`. This ensures correct interpretation of the logged artifacts.\n",
      "/home/gabs/miniconda3/lib/python3.10/site-packages/keras/src/trainers/data_adapters/py_dataset_adapter.py:121: UserWarning: Your `PyDataset` class should call `super().__init__(**kwargs)` in its constructor. `**kwargs` can include `workers`, `use_multiprocessing`, `max_queue_size`. Do not pass these arguments to `fit()`, as they will be ignored.\n",
      "  self._warn_if_super_not_called()\n"
     ]
    },
    {
     "name": "stdout",
     "output_type": "stream",
     "text": [
      "Epoch 1/10\n"
     ]
    },
    {
     "name": "stderr",
     "output_type": "stream",
     "text": [
      "2024-12-13 00:33:59.805115: W external/local_xla/xla/tsl/framework/cpu_allocator_impl.cc:83] Allocation of 129777664 exceeds 10% of free system memory.\n",
      "2024-12-13 00:33:59.881623: W external/local_xla/xla/tsl/framework/cpu_allocator_impl.cc:83] Allocation of 62005248 exceeds 10% of free system memory.\n",
      "2024-12-13 00:34:00.107536: W external/local_xla/xla/tsl/framework/cpu_allocator_impl.cc:83] Allocation of 62005248 exceeds 10% of free system memory.\n",
      "2024-12-13 00:34:00.408354: W external/local_xla/xla/tsl/framework/cpu_allocator_impl.cc:83] Allocation of 64888832 exceeds 10% of free system memory.\n",
      "2024-12-13 00:34:00.408424: W external/local_xla/xla/tsl/framework/cpu_allocator_impl.cc:83] Allocation of 129777664 exceeds 10% of free system memory.\n"
     ]
    },
    {
     "name": "stdout",
     "output_type": "stream",
     "text": [
      "\u001b[1m109/109\u001b[0m \u001b[32m━━━━━━━━━━━━━━━━━━━━\u001b[0m\u001b[37m\u001b[0m \u001b[1m85s\u001b[0m 769ms/step - accuracy: 0.3359 - loss: 1.4948 - val_accuracy: 0.5477 - val_loss: 1.1454\n",
      "Epoch 2/10\n",
      "\u001b[1m109/109\u001b[0m \u001b[32m━━━━━━━━━━━━━━━━━━━━\u001b[0m\u001b[37m\u001b[0m \u001b[1m82s\u001b[0m 755ms/step - accuracy: 0.5808 - loss: 1.0602 - val_accuracy: 0.5965 - val_loss: 1.0524\n",
      "Epoch 3/10\n",
      "\u001b[1m109/109\u001b[0m \u001b[32m━━━━━━━━━━━━━━━━━━━━\u001b[0m\u001b[37m\u001b[0m \u001b[1m80s\u001b[0m 725ms/step - accuracy: 0.6474 - loss: 0.8774 - val_accuracy: 0.6012 - val_loss: 1.0602\n",
      "Epoch 4/10\n",
      "\u001b[1m109/109\u001b[0m \u001b[32m━━━━━━━━━━━━━━━━━━━━\u001b[0m\u001b[37m\u001b[0m \u001b[1m80s\u001b[0m 729ms/step - accuracy: 0.6884 - loss: 0.8291 - val_accuracy: 0.6163 - val_loss: 0.9857\n",
      "Epoch 5/10\n",
      "\u001b[1m109/109\u001b[0m \u001b[32m━━━━━━━━━━━━━━━━━━━━\u001b[0m\u001b[37m\u001b[0m \u001b[1m77s\u001b[0m 703ms/step - accuracy: 0.7500 - loss: 0.6341 - val_accuracy: 0.6477 - val_loss: 1.1188\n",
      "Epoch 6/10\n",
      "\u001b[1m109/109\u001b[0m \u001b[32m━━━━━━━━━━━━━━━━━━━━\u001b[0m\u001b[37m\u001b[0m \u001b[1m76s\u001b[0m 696ms/step - accuracy: 0.8284 - loss: 0.4684 - val_accuracy: 0.6244 - val_loss: 1.2363\n",
      "Epoch 7/10\n",
      "\u001b[1m109/109\u001b[0m \u001b[32m━━━━━━━━━━━━━━━━━━━━\u001b[0m\u001b[37m\u001b[0m \u001b[1m78s\u001b[0m 717ms/step - accuracy: 0.8770 - loss: 0.3298 - val_accuracy: 0.6500 - val_loss: 1.2680\n",
      "Epoch 8/10\n",
      "\u001b[1m109/109\u001b[0m \u001b[32m━━━━━━━━━━━━━━━━━━━━\u001b[0m\u001b[37m\u001b[0m \u001b[1m76s\u001b[0m 694ms/step - accuracy: 0.9307 - loss: 0.2149 - val_accuracy: 0.6337 - val_loss: 1.6745\n",
      "Epoch 9/10\n",
      "\u001b[1m109/109\u001b[0m \u001b[32m━━━━━━━━━━━━━━━━━━━━\u001b[0m\u001b[37m\u001b[0m \u001b[1m79s\u001b[0m 727ms/step - accuracy: 0.9621 - loss: 0.1173 - val_accuracy: 0.6349 - val_loss: 1.6039\n",
      "Epoch 10/10\n",
      "\u001b[1m109/109\u001b[0m \u001b[32m━━━━━━━━━━━━━━━━━━━━\u001b[0m\u001b[37m\u001b[0m \u001b[1m76s\u001b[0m 693ms/step - accuracy: 0.9732 - loss: 0.0929 - val_accuracy: 0.6151 - val_loss: 1.8666\n"
     ]
    }
   ],
   "source": [
    "history = model.fit(\n",
    "    train_generator,\n",
    "    epochs=10,\n",
    "    validation_data=validation_generator,\n",
    "    callbacks=[wandb.keras.WandbMetricsLogger(),\n",
    "                     wandb.keras.WandbModelCheckpoint(filepath='model.keras', save_best_only=True)])"
   ]
  },
  {
   "cell_type": "code",
   "execution_count": 30,
   "metadata": {},
   "outputs": [
    {
     "data": {
      "text/html": [
       "\n",
       "    <style>\n",
       "        .wandb-row {\n",
       "            display: flex;\n",
       "            flex-direction: row;\n",
       "            flex-wrap: wrap;\n",
       "            justify-content: flex-start;\n",
       "            width: 100%;\n",
       "        }\n",
       "        .wandb-col {\n",
       "            display: flex;\n",
       "            flex-direction: column;\n",
       "            flex-basis: 100%;\n",
       "            flex: 1;\n",
       "            padding: 10px;\n",
       "        }\n",
       "    </style>\n",
       "<div class=\"wandb-row\"><div class=\"wandb-col\"><h3>Run history:</h3><br/><table class=\"wandb\"><tr><td>epoch/accuracy</td><td>▁▃▄▄▅▆▇▇██</td></tr><tr><td>epoch/epoch</td><td>▁▂▃▃▄▅▆▆▇█</td></tr><tr><td>epoch/learning_rate</td><td>▁▁▁▁▁▁▁▁▁▁</td></tr><tr><td>epoch/loss</td><td>█▇▆▅▄▃▂▂▁▁</td></tr><tr><td>epoch/val_accuracy</td><td>▁▄▅▆█▆█▇▇▆</td></tr><tr><td>epoch/val_loss</td><td>▂▂▂▁▂▃▃▆▆█</td></tr></table><br/></div><div class=\"wandb-col\"><h3>Run summary:</h3><br/><table class=\"wandb\"><tr><td>epoch/accuracy</td><td>0.97165</td></tr><tr><td>epoch/epoch</td><td>9</td></tr><tr><td>epoch/learning_rate</td><td>0.001</td></tr><tr><td>epoch/loss</td><td>0.10162</td></tr><tr><td>epoch/val_accuracy</td><td>0.61512</td></tr><tr><td>epoch/val_loss</td><td>1.86661</td></tr></table><br/></div></div>"
      ],
      "text/plain": [
       "<IPython.core.display.HTML object>"
      ]
     },
     "metadata": {},
     "output_type": "display_data"
    },
    {
     "data": {
      "text/html": [
       " View run <strong style=\"color:#cdcd00\">jolly-wind-16</strong> at: <a href='https://wandb.ai/gabrielsvlira-ufrn/mlops-course-001/runs/ntbkn362' target=\"_blank\">https://wandb.ai/gabrielsvlira-ufrn/mlops-course-001/runs/ntbkn362</a><br/> View project at: <a href='https://wandb.ai/gabrielsvlira-ufrn/mlops-course-001' target=\"_blank\">https://wandb.ai/gabrielsvlira-ufrn/mlops-course-001</a><br/>Synced 5 W&B file(s), 0 media file(s), 6 artifact file(s) and 0 other file(s)"
      ],
      "text/plain": [
       "<IPython.core.display.HTML object>"
      ]
     },
     "metadata": {},
     "output_type": "display_data"
    },
    {
     "data": {
      "text/html": [
       "Find logs at: <code>./wandb/run-20241213_002046-ntbkn362/logs</code>"
      ],
      "text/plain": [
       "<IPython.core.display.HTML object>"
      ]
     },
     "metadata": {},
     "output_type": "display_data"
    }
   ],
   "source": [
    "wandb.finish()"
   ]
  }
 ],
 "metadata": {
  "kernelspec": {
   "display_name": "base",
   "language": "python",
   "name": "python3"
  },
  "language_info": {
   "codemirror_mode": {
    "name": "ipython",
    "version": 3
   },
   "file_extension": ".py",
   "mimetype": "text/x-python",
   "name": "python",
   "nbconvert_exporter": "python",
   "pygments_lexer": "ipython3",
   "version": "3.10.10"
  }
 },
 "nbformat": 4,
 "nbformat_minor": 2
}
